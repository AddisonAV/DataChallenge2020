{
 "cells": [
  {
   "cell_type": "markdown",
   "metadata": {},
   "source": [
    "Importing Python packages"
   ]
  },
  {
   "cell_type": "code",
   "execution_count": 4,
   "metadata": {},
   "outputs": [],
   "source": [
    "import pandas as pd\n",
    "from Utils.preprocessing import *"
   ]
  },
  {
   "cell_type": "markdown",
   "metadata": {},
   "source": [
    "Importing datasets"
   ]
  },
  {
   "cell_type": "code",
   "execution_count": 5,
   "metadata": {},
   "outputs": [
    {
     "name": "stdout",
     "output_type": "stream",
     "text": [
      "File names:  ['Sample02.csv', '._.DS_Store', 'Sample01.csv', 'Sample06.csv', 'Sample05.csv', 'Sample09.csv', 'Sample11.csv', 'Sample07.csv', 'Sample10.csv', 'Sample03.csv', 'Sample12.csv', 'Sample04.csv', 'Sample08.csv']\n",
      "Number of files:  13\n"
     ]
    },
    {
     "data": {
      "text/plain": [
       "'Sample02.csv'"
      ]
     },
     "execution_count": 5,
     "metadata": {},
     "output_type": "execute_result"
    }
   ],
   "source": [
    "path = './Datasets/Training/Small'\n",
    "file_names = get_file_names(folder_path=path,returns=False)\n",
    "file_names[0]"
   ]
  },
  {
   "cell_type": "code",
   "execution_count": 6,
   "metadata": {},
   "outputs": [
    {
     "data": {
      "text/html": [
       "<div>\n",
       "<style scoped>\n",
       "    .dataframe tbody tr th:only-of-type {\n",
       "        vertical-align: middle;\n",
       "    }\n",
       "\n",
       "    .dataframe tbody tr th {\n",
       "        vertical-align: top;\n",
       "    }\n",
       "\n",
       "    .dataframe thead th {\n",
       "        text-align: right;\n",
       "    }\n",
       "</style>\n",
       "<table border=\"1\" class=\"dataframe\">\n",
       "  <thead>\n",
       "    <tr style=\"text-align: right;\">\n",
       "      <th></th>\n",
       "      <th>Time(s)</th>\n",
       "      <th>Flow_Rate(ml/m)</th>\n",
       "      <th>Upstream_Pressure(psi)</th>\n",
       "      <th>Downstream_Pressure(psi)</th>\n",
       "    </tr>\n",
       "  </thead>\n",
       "  <tbody>\n",
       "    <tr>\n",
       "      <th>0</th>\n",
       "      <td>0.0</td>\n",
       "      <td>9.836354</td>\n",
       "      <td>1.28750</td>\n",
       "      <td>0.55000</td>\n",
       "    </tr>\n",
       "    <tr>\n",
       "      <th>1</th>\n",
       "      <td>0.1</td>\n",
       "      <td>9.935067</td>\n",
       "      <td>0.50625</td>\n",
       "      <td>0.51250</td>\n",
       "    </tr>\n",
       "    <tr>\n",
       "      <th>2</th>\n",
       "      <td>0.2</td>\n",
       "      <td>11.317054</td>\n",
       "      <td>-0.10000</td>\n",
       "      <td>-1.02500</td>\n",
       "    </tr>\n",
       "    <tr>\n",
       "      <th>3</th>\n",
       "      <td>0.3</td>\n",
       "      <td>7.565948</td>\n",
       "      <td>1.05625</td>\n",
       "      <td>0.21250</td>\n",
       "    </tr>\n",
       "    <tr>\n",
       "      <th>4</th>\n",
       "      <td>0.4</td>\n",
       "      <td>12.205473</td>\n",
       "      <td>1.10625</td>\n",
       "      <td>0.77500</td>\n",
       "    </tr>\n",
       "    <tr>\n",
       "      <th>...</th>\n",
       "      <td>...</td>\n",
       "      <td>...</td>\n",
       "      <td>...</td>\n",
       "      <td>...</td>\n",
       "    </tr>\n",
       "    <tr>\n",
       "      <th>3265</th>\n",
       "      <td>326.5</td>\n",
       "      <td>266.885785</td>\n",
       "      <td>10.43750</td>\n",
       "      <td>-0.85000</td>\n",
       "    </tr>\n",
       "    <tr>\n",
       "      <th>3266</th>\n",
       "      <td>326.6</td>\n",
       "      <td>267.280639</td>\n",
       "      <td>11.33750</td>\n",
       "      <td>0.42500</td>\n",
       "    </tr>\n",
       "    <tr>\n",
       "      <th>3267</th>\n",
       "      <td>326.7</td>\n",
       "      <td>266.984499</td>\n",
       "      <td>9.73750</td>\n",
       "      <td>0.13125</td>\n",
       "    </tr>\n",
       "    <tr>\n",
       "      <th>3268</th>\n",
       "      <td>326.8</td>\n",
       "      <td>259.482288</td>\n",
       "      <td>10.01875</td>\n",
       "      <td>-0.76250</td>\n",
       "    </tr>\n",
       "    <tr>\n",
       "      <th>3269</th>\n",
       "      <td>326.9</td>\n",
       "      <td>260.765561</td>\n",
       "      <td>10.81250</td>\n",
       "      <td>0.50625</td>\n",
       "    </tr>\n",
       "  </tbody>\n",
       "</table>\n",
       "<p>3270 rows × 4 columns</p>\n",
       "</div>"
      ],
      "text/plain": [
       "      Time(s)  Flow_Rate(ml/m)  Upstream_Pressure(psi)  \\\n",
       "0         0.0         9.836354                 1.28750   \n",
       "1         0.1         9.935067                 0.50625   \n",
       "2         0.2        11.317054                -0.10000   \n",
       "3         0.3         7.565948                 1.05625   \n",
       "4         0.4        12.205473                 1.10625   \n",
       "...       ...              ...                     ...   \n",
       "3265    326.5       266.885785                10.43750   \n",
       "3266    326.6       267.280639                11.33750   \n",
       "3267    326.7       266.984499                 9.73750   \n",
       "3268    326.8       259.482288                10.01875   \n",
       "3269    326.9       260.765561                10.81250   \n",
       "\n",
       "      Downstream_Pressure(psi)  \n",
       "0                      0.55000  \n",
       "1                      0.51250  \n",
       "2                     -1.02500  \n",
       "3                      0.21250  \n",
       "4                      0.77500  \n",
       "...                        ...  \n",
       "3265                  -0.85000  \n",
       "3266                   0.42500  \n",
       "3267                   0.13125  \n",
       "3268                  -0.76250  \n",
       "3269                   0.50625  \n",
       "\n",
       "[3270 rows x 4 columns]"
      ]
     },
     "execution_count": 6,
     "metadata": {},
     "output_type": "execute_result"
    }
   ],
   "source": [
    "df_path = path + '/' + file_names[0]\n",
    "df = pd.read_csv(df_path)\n",
    "df"
   ]
  }
 ],
 "metadata": {
  "interpreter": {
   "hash": "916dbcbb3f70747c44a77c7bcd40155683ae19c65e1c03b4aa3499c5328201f1"
  },
  "kernelspec": {
   "display_name": "Python 3.9.7 64-bit",
   "language": "python",
   "name": "python3"
  },
  "language_info": {
   "codemirror_mode": {
    "name": "ipython",
    "version": 3
   },
   "file_extension": ".py",
   "mimetype": "text/x-python",
   "name": "python",
   "nbconvert_exporter": "python",
   "pygments_lexer": "ipython3",
   "version": "3.9.7"
  },
  "orig_nbformat": 4
 },
 "nbformat": 4,
 "nbformat_minor": 2
}
